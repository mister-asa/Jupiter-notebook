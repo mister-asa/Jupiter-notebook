{
  "nbformat": 4,
  "nbformat_minor": 0,
  "metadata": {
    "colab": {
      "provenance": []
    },
    "kernelspec": {
      "name": "python3",
      "display_name": "Python 3"
    },
    "language_info": {
      "name": "python"
    }
  },
  "cells": [
    {
      "cell_type": "markdown",
      "source": [
        "Задание 1\n",
        "\n",
        "Загрузите модуль pyplot библиотеки matplotlib с псевдонимом plt, а также библиотеку numpy с псевдонимом np. Примените магическую функцию %matplotlib inline для отображения графиков в Jupyter Notebook и настройки конфигурации ноутбука со значением 'svg' для более четкого отображения графиков. Создайте список под названием x с числами 1, 2, 3, 4, 5, 6, 7 и список y с числами 3.5, 3.8, 4.2, 4.5, 5, 5.5, 7. С помощью функции plot постройте график, соединяющий линиями точки с горизонтальными координатами из списка x и вертикальными - из списка y. Затем в следующей ячейке постройте диаграмму рассеяния (другие названия - диаграмма разброса, scatter plot)."
      ],
      "metadata": {
        "id": "ndjmDWyGXNIq"
      }
    },
    {
      "cell_type": "code",
      "source": [
        "import matplotlib.pyplot as plt\n",
        "import numpy as np\n",
        "\n",
        "\n",
        "%matplotlib inline\n",
        "\n",
        "x = [1, 2, 3, 4, 5, 6, 7]\n",
        "y = [3.5, 3.8, 4.2, 4.5, 5, 5.5, 7]\n",
        "\n",
        "plt.plot(x,y)\n",
        "plt.show()"
      ],
      "metadata": {
        "id": "bBcTb9CyXrQN"
      },
      "execution_count": null,
      "outputs": []
    },
    {
      "cell_type": "code",
      "source": [
        "plt.scatter(x,y)\n",
        "plt.show()"
      ],
      "metadata": {
        "id": "KRHY9c2vXvy8"
      },
      "execution_count": null,
      "outputs": []
    },
    {
      "cell_type": "markdown",
      "source": [
        "Задание 2\n",
        "\n",
        "С помощью функции linspace из библиотеки Numpy создайте массив t из 51 числа от 0 до 10 включительно. Создайте массив Numpy под названием f, содержащий косинусы элементов массива t. Постройте линейную диаграмму, используя массив t для координат по горизонтали,а массив f - для координат по вертикали. Линия графика должна быть зеленого цвета. Выведите название диаграммы - 'График f(t)'. Также добавьте названия для горизонтальной оси - 'Значения t' и для вертикальной - 'Значения f'. Ограничьте график по оси x значениями 0.5 и 9.5, а по оси y - значениями -2.5 и 2.5."
      ],
      "metadata": {
        "id": "E3bkFmT3Xysn"
      }
    },
    {
      "cell_type": "code",
      "source": [
        "t = np.linspace(0, 10, num=51)\n",
        "\n",
        "f = np.array(np.cos(t))"
      ],
      "metadata": {
        "id": "JbKEsnUJX0HH"
      },
      "execution_count": null,
      "outputs": []
    },
    {
      "cell_type": "code",
      "source": [
        "%config InlineBackend.figure_format = 'svg'\n",
        "\n",
        "plt.plot(t,f, 'g')\n",
        "\n",
        "title_font= {\n",
        "    \"fontsize\": 16,\n",
        "    \"fontweight\": \"bold\",\n",
        "    \"color\": \"black\",\n",
        "    \"family\": \"serif\"\n",
        "    }\n",
        "    \n",
        "label_font = {\n",
        "    \"fontsize\": 9,\n",
        "    \"family\": \"serif\",\n",
        "    }\n",
        "\n",
        "plt.title(\"График f(t)\", fontdict=title_font)\n",
        "plt.xlabel(\"Значения t\", fontdict=label_font)\n",
        "plt.ylabel(\"Значения f\", fontdict=label_font)\n",
        "\n",
        "plt.axis([0.5, 9.5, -2.5, 2.5])\n",
        "\n",
        "plt.show()"
      ],
      "metadata": {
        "id": "sqE3k9-BYLMn"
      },
      "execution_count": null,
      "outputs": []
    },
    {
      "cell_type": "markdown",
      "source": [
        "*Задание 3\n",
        "\n",
        "С помощью функции linspace библиотеки Numpy создайте массив x из 51 числа от -3 до 3 включительно. Создайте массивы y1, y2, y3, y4 по следующим формулам: y1 = x*2 y2 = 2 x + 0.5 y3 = -3 * x - 1.5 y4 = sin(x) Используя функцию subplots модуля matplotlib.pyplot, создайте объект matplotlib.figure.Figure с названием fig и массив объектов Axes под названием ax,причем так, чтобы у вас было 4 отдельных графика в сетке, состоящей из двух строк и двух столбцов. В каждом графике массив x используется для координат по горизонтали.В левом верхнем графике для координат по вертикали используйте y1,в правом верхнем - y2, в левом нижнем - y3, в правом нижнем - y4.Дайте название графикам: 'График y1', 'График y2' и т.д. Для графика в левом верхнем углу установите границы по оси x от -5 до 5. Установите размеры фигуры 8 дюймов по горизонтали и 6 дюймов по вертикали. Вертикальные и горизонтальные зазоры между графиками должны составлять 0.3."
      ],
      "metadata": {
        "id": "cz7liK_kYMGc"
      }
    },
    {
      "cell_type": "code",
      "source": [
        "x = np.linspace(-3, 3, 51)\n",
        "y1 = x ** 2\n",
        "y2 = 2 * x + 0.5\n",
        "y3 = -3 * x - 1.5\n",
        "y4 = np.sin(x)"
      ],
      "metadata": {
        "id": "SWKB7Yu0YQG7"
      },
      "execution_count": null,
      "outputs": []
    },
    {
      "cell_type": "code",
      "source": [
        "fig, ax = plt.subplots(nrows=2, ncols=2)\n",
        "\n",
        "fig.set_size_inches(8, 6)\n",
        "fig.subplots_adjust(wspace=0.3, hspace=0.3)\n",
        "\n",
        "ax1, ax2, ax3, ax4 = ax.flatten()\n",
        "\n",
        "ax1.plot(x, y1)\n",
        "ax1.set_xlim([-5, 5])\n",
        "ax1.set_title('График y1')\n",
        "\n",
        "ax2.plot(x, y2)\n",
        "ax2.set_title('График y2')\n",
        "\n",
        "ax3.plot(x, y3)\n",
        "ax3.set_title('График y3')\n",
        "\n",
        "ax4.plot(x, y4)\n",
        "ax4.set_title('График y4')"
      ],
      "metadata": {
        "id": "t8nQZGiyYl8p"
      },
      "execution_count": null,
      "outputs": []
    },
    {
      "cell_type": "markdown",
      "source": [
        "*Задание 4\n",
        "\n",
        "В этом задании мы будем работать с датасетом, в котором приведены данные по мошенничеству с кредитными данными: Credit Card Fraud Detection (информация об авторах: Andrea Dal Pozzolo, Olivier Caelen, Reid A. Johnson and Gianluca Bontempi. Calibrating Probability with Undersampling for Unbalanced Classification. In Symposium on Computational Intelligence and Data Mining (CIDM), IEEE, 2015). Ознакомьтесь с описанием и скачайте датасет creditcard.csv с сайта Kaggle.com по ссылке: https://www.kaggle.com/mlg-ulb/creditcardfraud Данный датасет является примером несбалансированных данных, так как мошеннические операции с картами встречаются реже обычных. Импортруйте библиотеку Pandas, а также используйте для графиков стиль “fivethirtyeight”. Посчитайте с помощью метода value_counts количество наблюдений для каждого значения целевой переменной Class и примените к полученным данным метод plot, чтобы построить столбчатую диаграмму. Затем постройте такую же диаграмму, используя логарифмический масштаб. На следующем графике постройте две гистограммы по значениям признака V1 - одну для мошеннических транзакций (Class равен 1) и другую - для обычных (Class равен 0). Подберите значение аргумента density так, чтобы по вертикали графика было расположено не число наблюдений, а плотность распределения. Число бинов должно равняться 20 для обеих гистограмм, а коэффициент alpha сделайте равным 0.5, чтобы гистограммы были полупрозрачными и не загораживали друг друга. Создайте легенду с двумя значениями: “Class 0” и “Class 1”. Гистограмма обычных транзакций должна быть серого цвета, а мошеннических - красного. Горизонтальной оси дайте название “Class”.\n",
        "\n"
      ],
      "metadata": {
        "id": "QVkg4TDCYo_k"
      }
    },
    {
      "cell_type": "code",
      "source": [
        "import pandas as pd\n",
        "\n",
        "plt.style.use('fivethirtyeight')"
      ],
      "metadata": {
        "id": "sBVBHtDNYru2"
      },
      "execution_count": null,
      "outputs": []
    },
    {
      "cell_type": "code",
      "source": [
        "df = pd.read_csv('./creditcard.csv')\n",
        "df.iloc[:10, [0, 1, 2, 3, 4, 28, 29, 30]]"
      ],
      "metadata": {
        "id": "SfE0FOazYt96"
      },
      "execution_count": null,
      "outputs": []
    },
    {
      "cell_type": "code",
      "source": [
        "class_count = df['Class'].value_counts()\n",
        "class_count"
      ],
      "metadata": {
        "id": "dSXVKo7lYvvI"
      },
      "execution_count": null,
      "outputs": []
    },
    {
      "cell_type": "code",
      "source": [
        "class_count.plot(kind='bar')\n",
        "plt.show()"
      ],
      "metadata": {
        "id": "C9U5Hem1YxVz"
      },
      "execution_count": null,
      "outputs": []
    },
    {
      "cell_type": "code",
      "source": [
        "class_count.plot(kind='bar', logy=True)\n",
        "plt.show()"
      ],
      "metadata": {
        "id": "d90j_HHVYzPz"
      },
      "execution_count": null,
      "outputs": []
    },
    {
      "cell_type": "code",
      "source": [
        "fraud_transaction = df.loc[df['Class']==1, 'V1']\n",
        "normal_transaction= df.loc[df['Class']==0, 'V1']\n",
        "\n",
        "hist = plt.hist([fraud_transaction, normal_transaction], bins=20, density=True, color=['red','grey'], alpha=0.5)\n",
        "\n",
        "label_font = {\n",
        "    \"fontsize\": 12,\n",
        "    \"fontweight\":\"light\",\n",
        "    \"family\": \"serif\",\n",
        "}\n",
        "plt.xlabel('Class', fontdict=label_font, labelpad=20)\n",
        "plt.legend(labels=['Class1', 'Class0'], frameon=False)\n",
        "plt.show"
      ],
      "metadata": {
        "id": "ZOLzMYQMY2zc"
      },
      "execution_count": null,
      "outputs": []
    },
    {
      "cell_type": "markdown",
      "source": [
        "**Задание на повторение материала\n",
        "\n",
        "Создать одномерный массив Numpy под названием a из 12 последовательных целых чисел чисел от 12 до 24 невключительно"
      ],
      "metadata": {
        "id": "cdH8tP2rY45a"
      }
    },
    {
      "cell_type": "code",
      "source": [
        "a = np.arange(12,24)\n",
        "a"
      ],
      "metadata": {
        "id": "EEypLwVAY8bJ"
      },
      "execution_count": null,
      "outputs": []
    },
    {
      "cell_type": "markdown",
      "source": [
        "1. Создать 5 двумерных массивов разной формы из массива a. Не использовать в аргументах метода reshape число -1."
      ],
      "metadata": {
        "id": "PQO8mfu6Y-1o"
      }
    },
    {
      "cell_type": "code",
      "source": [
        "a = a.reshape(2,6)\n",
        "a"
      ],
      "metadata": {
        "id": "BUqmRPAYZBFn"
      },
      "execution_count": null,
      "outputs": []
    },
    {
      "cell_type": "code",
      "source": [
        "b = a.argsort(axis=0)\n",
        "b"
      ],
      "metadata": {
        "id": "ppk7wgbuZOex"
      },
      "execution_count": null,
      "outputs": []
    },
    {
      "cell_type": "code",
      "source": [
        "c = a + a\n",
        "c"
      ],
      "metadata": {
        "id": "30JzRwE4ZQAU"
      },
      "execution_count": null,
      "outputs": []
    },
    {
      "cell_type": "code",
      "source": [
        "d = a.reshape(6,2) + np.ones((6, 2))\n",
        "d"
      ],
      "metadata": {
        "id": "8DXImSTtZRfE"
      },
      "execution_count": null,
      "outputs": []
    },
    {
      "cell_type": "code",
      "source": [
        "e = np.sqrt(a.reshape(6,2))\n",
        "e"
      ],
      "metadata": {
        "id": "zLipYCoqZTVF"
      },
      "execution_count": null,
      "outputs": []
    },
    {
      "cell_type": "markdown",
      "source": [
        "1. Создать 5 двумерных массивов разной формы из массива a. Использовать в аргументах метода reshape число -1 (в трех примерах - для обозначения числа столбцов, в двух - для строк)."
      ],
      "metadata": {
        "id": "kJ_4toqaZVQm"
      }
    },
    {
      "cell_type": "code",
      "source": [
        "a1 = a.reshape(2,-1)\n",
        "a1"
      ],
      "metadata": {
        "id": "LZSxB6JdZYUm"
      },
      "execution_count": null,
      "outputs": []
    },
    {
      "cell_type": "code",
      "source": [
        "b1 = a.reshape(12,-1)\n",
        "b1"
      ],
      "metadata": {
        "id": "tUoZNij8ZaJs"
      },
      "execution_count": null,
      "outputs": []
    },
    {
      "cell_type": "code",
      "source": [
        "c1 = a.reshape(6,-1)\n",
        "c1"
      ],
      "metadata": {
        "id": "RR7q_zrxZcEu"
      },
      "execution_count": null,
      "outputs": []
    },
    {
      "cell_type": "code",
      "source": [
        "a1 = a.reshape(-1,3)\n",
        "a1"
      ],
      "metadata": {
        "id": "0qrARDPaZdiF"
      },
      "execution_count": null,
      "outputs": []
    },
    {
      "cell_type": "code",
      "source": [
        "a1 = a.reshape(-1,1)\n",
        "a1"
      ],
      "metadata": {
        "id": "n0z3m2V7ZkKO"
      },
      "execution_count": null,
      "outputs": []
    },
    {
      "cell_type": "markdown",
      "source": [
        "1. Можно ли массив Numpy, состоящий из одного столбца и 12 строк, назвать одномерным?"
      ],
      "metadata": {
        "id": "DsNLj4cGZneZ"
      }
    },
    {
      "cell_type": "code",
      "source": [
        "A = np.array([1,  2,  3,  4,  5,  6,  7,  8,  9, 10, 11, 12])\n",
        "B = A.reshape (12,1)\n",
        "A.ndim == B.ndim"
      ],
      "metadata": {
        "id": "Gxu8huNHZov6"
      },
      "execution_count": null,
      "outputs": []
    },
    {
      "cell_type": "markdown",
      "source": [
        "1. Создать массив из 3 строк и 4 столбцов, состоящий из случайных чисел с плавающей запятой из нормального распределения со средним, равным 0 и среднеквадратичным отклонением, равным 1.0. Получить из этого массива одномерный массив с таким же атрибутом size, как и исходный массив."
      ],
      "metadata": {
        "id": "WxIeeT0tZrn3"
      }
    },
    {
      "cell_type": "code",
      "source": [
        "A = np.random.randn(3, 4)\n",
        "A.size"
      ],
      "metadata": {
        "id": "r4GtLuafZwFs"
      },
      "execution_count": null,
      "outputs": []
    },
    {
      "cell_type": "code",
      "source": [
        "B = A.flatten()\n",
        "B.size"
      ],
      "metadata": {
        "id": "wZq5X4yVZx83"
      },
      "execution_count": null,
      "outputs": []
    },
    {
      "cell_type": "markdown",
      "source": [
        "6. Создать массив a, состоящий из целых чисел, убывающих от 20 до 0 невключительно с интервалом 2."
      ],
      "metadata": {
        "id": "Yp8tHRFfZ0on"
      }
    },
    {
      "cell_type": "code",
      "source": [
        "A = np.arange(20, 0, -2)\n",
        "print(A)\n",
        "A.ndim, A.shape, A.size"
      ],
      "metadata": {
        "id": "7HrKJDXRZ8W6"
      },
      "execution_count": null,
      "outputs": []
    },
    {
      "cell_type": "markdown",
      "source": [
        "1. Создать массив b, состоящий из 1 строки и 10 столбцов: целых чисел, убывающих от 20 до 1 невключительно с интервалом 2. В чем разница между массивами a и b?"
      ],
      "metadata": {
        "id": "sR0E9fhPZ92r"
      }
    },
    {
      "cell_type": "code",
      "source": [
        "B = np.arange(20, 1, -2)\n",
        "B.reshape(1,10)\n",
        "print(B)\n",
        "B.ndim, B.shape, B.size"
      ],
      "metadata": {
        "id": "3Xz_wIVbaAFm"
      },
      "execution_count": null,
      "outputs": []
    },
    {
      "cell_type": "markdown",
      "source": [
        "1. Вертикально соединить массивы a и b. a - двумерный массив из нулей, число строк которого больше 1 и на 1 меньше, чем число строк двумерного массива b, состоящего из единиц. Итоговый массив v должен иметь атрибут size, равный 10."
      ],
      "metadata": {
        "id": "aHcUtwgkaCGf"
      }
    },
    {
      "cell_type": "code",
      "source": [
        "a = np.zeros((2, 2))\n",
        "\n",
        "b = np.ones((3, 2))\n",
        "\n",
        "v = np.concatenate((a, b), axis=0)\n",
        "v.size"
      ],
      "metadata": {
        "id": "SvmzRHtPaFaG"
      },
      "execution_count": null,
      "outputs": []
    },
    {
      "cell_type": "markdown",
      "source": [
        "1. Создать одномерный массив а, состоящий из последовательности целых чисел от 0 до 12. Поменять форму этого массива, чтобы получилась матрица A (двумерный массив Numpy), состоящая из 4 строк и 3 столбцов. Получить матрицу At путем транспонирования матрицы A. Получить матрицу B, умножив матрицу A на матрицу At с помощью матричного умножения. Какой размер имеет матрица B? Получится ли вычислить обратную матрицу для матрицы B и почему?"
      ],
      "metadata": {
        "id": "UwzXGgLfaGFh"
      }
    },
    {
      "cell_type": "code",
      "source": [
        "A = np.arange(12).reshape(4, 3)\n",
        "A"
      ],
      "metadata": {
        "id": "bSbnDgWoaIfi"
      },
      "execution_count": null,
      "outputs": []
    },
    {
      "cell_type": "code",
      "source": [
        "At = A.T\n",
        "At"
      ],
      "metadata": {
        "id": "dQ4kDLbAaKAY"
      },
      "execution_count": null,
      "outputs": []
    },
    {
      "cell_type": "code",
      "source": [
        "B = A.dot(At)\n",
        "print(B)\n",
        "B.size"
      ],
      "metadata": {
        "id": "YRJTR488aLsK"
      },
      "execution_count": null,
      "outputs": []
    },
    {
      "cell_type": "markdown",
      "source": [
        "В том случае, если определитель матрицы равен НУЛЮ – обратной матрицы НЕ СУЩЕСТВУЕТ."
      ],
      "metadata": {
        "id": "35eG0--KaOI7"
      }
    },
    {
      "cell_type": "code",
      "source": [
        "print (f'определитель матрицы равен: {np.linalg.det(B)}')"
      ],
      "metadata": {
        "id": "nAs5u_VraQYB"
      },
      "execution_count": null,
      "outputs": []
    },
    {
      "cell_type": "markdown",
      "source": [
        "1. Инициализируйте генератор случайных чисел с помощью объекта seed, равного 42."
      ],
      "metadata": {
        "id": "BibdRSawaS99"
      }
    },
    {
      "cell_type": "code",
      "source": [
        "np.random.seed(42)"
      ],
      "metadata": {
        "id": "Lt_34IiKaV_h"
      },
      "execution_count": null,
      "outputs": []
    },
    {
      "cell_type": "markdown",
      "source": [
        "1. Поменяйте его форму так, чтобы получилась квадратная матрица C. Получите матрицу D, поэлементно прибавив матрицу B из предыдущего вопроса к матрице C, умноженной на 10. Вычислите определитель, ранг и обратную матрицу D_inv для D."
      ],
      "metadata": {
        "id": "JDv4S53baW26"
      }
    },
    {
      "cell_type": "code",
      "source": [
        "C = c.reshape(4, 4)\n",
        "C.shape"
      ],
      "metadata": {
        "id": "-HF6onp8aZW_"
      },
      "execution_count": null,
      "outputs": []
    },
    {
      "cell_type": "code",
      "source": [
        "D = B + C * 10\n",
        "D"
      ],
      "metadata": {
        "id": "PevpbvC1abPf"
      },
      "execution_count": null,
      "outputs": []
    },
    {
      "cell_type": "code",
      "source": [
        "D_d = np.linalg.det(D)"
      ],
      "metadata": {
        "id": "88Ov3A68ac22"
      },
      "execution_count": null,
      "outputs": []
    },
    {
      "cell_type": "code",
      "source": [
        "np.linalg.matrix_rank(D)"
      ],
      "metadata": {
        "id": "dxvQRlxNaeYt"
      },
      "execution_count": null,
      "outputs": []
    },
    {
      "cell_type": "code",
      "source": [
        "D_inv = np.linalg.inv(D)\n",
        "D_inv"
      ],
      "metadata": {
        "id": "Qe_JB9VdafvX"
      },
      "execution_count": null,
      "outputs": []
    },
    {
      "cell_type": "markdown",
      "source": [
        "1. Приравняйте к нулю отрицательные числа в матрице D_inv, а положительные - к единице. Убедитесь, что в матрице D_inv остались только нули и единицы. С помощью функции numpy.where, используя матрицу D_inv в качестве маски, а матрицы B и C - в качестве источников данных, получите матрицу E размером 4x4. Элементы матрицы E, для которых соответствующий элемент матрицы D_inv равен 1, должны быть равны соответствующему элементу матрицы B, а элементы матрицы E, для которых соответствующий элемент матрицы D_inv равен 0, должны быть равны соответствующему элементу матрицы C."
      ],
      "metadata": {
        "id": "C21-_iLEaiOo"
      }
    },
    {
      "cell_type": "code",
      "source": [
        "D_inv = np.where (D_inv < 0, 0, 1)\n",
        "D_inv"
      ],
      "metadata": {
        "id": "8O84qhnzajyd"
      },
      "execution_count": null,
      "outputs": []
    },
    {
      "cell_type": "code",
      "source": [
        "print(f'B : \\n{B}\\n\\n C : \\n{C}')"
      ],
      "metadata": {
        "id": "ShjbMCPEalOE"
      },
      "execution_count": null,
      "outputs": []
    },
    {
      "cell_type": "code",
      "source": [
        "E = np.where(D_inv > 0, B, C)\n",
        "print(E)"
      ],
      "metadata": {
        "id": "ovYfaJxJam5T"
      },
      "execution_count": null,
      "outputs": []
    }
  ]
}